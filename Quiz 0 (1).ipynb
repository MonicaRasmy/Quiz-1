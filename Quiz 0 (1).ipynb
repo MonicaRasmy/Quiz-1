{
 "cells": [
  {
   "cell_type": "markdown",
   "id": "4325ab3d-f2b9-40bc-ae08-8abbe5479c19",
   "metadata": {},
   "source": [
    "# Craet List "
   ]
  },
  {
   "cell_type": "code",
   "execution_count": 3,
   "id": "4219152c-5583-4cde-813a-55f25b84c9e6",
   "metadata": {},
   "outputs": [
    {
     "name": "stdout",
     "output_type": "stream",
     "text": [
      "[10, 11, 9]\n"
     ]
    }
   ],
   "source": [
    "MSN= [Messi, Nymar, Swariz]\n",
    "Messi, Nymar, Swariz= [10, 11, 9]\n",
    "print(MSN)"
   ]
  },
  {
   "cell_type": "markdown",
   "id": "6b9cba33-d2ca-4d10-9fc0-226850dc7dbc",
   "metadata": {},
   "source": [
    "# Creat Tuple "
   ]
  },
  {
   "cell_type": "code",
   "execution_count": 7,
   "id": "162e0077-2196-46b8-a23e-789aa1864cda",
   "metadata": {},
   "outputs": [
    {
     "name": "stdout",
     "output_type": "stream",
     "text": [
      "(10.0, 11.0, 9.0)\n"
     ]
    }
   ],
   "source": [
    "Players=(Messi, Nymar, Swariz)\n",
    "Messi, Nymar, Swariz=(10.0, 11.0, 9.0)\n",
    "print(Players)"
   ]
  },
  {
   "cell_type": "markdown",
   "id": "ce9ad941-41b4-4dbb-b7f4-bba17b4e9395",
   "metadata": {},
   "source": [
    "# Change the type of int to float "
   ]
  },
  {
   "cell_type": "code",
   "execution_count": 1,
   "id": "15a48973-4605-4ff8-9cb1-ecf991eefb86",
   "metadata": {
    "tags": []
   },
   "outputs": [
    {
     "data": {
      "text/plain": [
       "35.0"
      ]
     },
     "execution_count": 1,
     "metadata": {},
     "output_type": "execute_result"
    }
   ],
   "source": [
    "x=5*7\n",
    "float(x)"
   ]
  },
  {
   "cell_type": "markdown",
   "id": "810d4461-9eba-4858-ad4f-46baf5048e7c",
   "metadata": {},
   "source": [
    "# Change the type of List to Tuple "
   ]
  },
  {
   "cell_type": "code",
   "execution_count": 21,
   "id": "f81117b6-987d-4d3a-a192-7f706f60f7b0",
   "metadata": {},
   "outputs": [],
   "source": [
    "tuple=\"MSN\""
   ]
  },
  {
   "cell_type": "markdown",
   "id": "21414b68-a64b-44bf-946e-83b2c361563c",
   "metadata": {},
   "source": [
    "# Calculate the area of the rectangle"
   ]
  },
  {
   "cell_type": "markdown",
   "id": "3d0c3459-f191-4e4b-b0bd-e158dec4dee7",
   "metadata": {},
   "source": [
    "height = 8 , width = 4"
   ]
  },
  {
   "cell_type": "code",
   "execution_count": 19,
   "id": "5a51b0c0-8672-4aa2-83a0-a4e21964a91f",
   "metadata": {},
   "outputs": [
    {
     "data": {
      "text/plain": [
       "16.0"
      ]
     },
     "execution_count": 19,
     "metadata": {},
     "output_type": "execute_result"
    }
   ],
   "source": [
    ".5*4*8"
   ]
  },
  {
   "cell_type": "markdown",
   "id": "1cdffa9b-dad4-4768-bafa-c0474cafb841",
   "metadata": {},
   "source": [
    "# Give me the 9 "
   ]
  },
  {
   "cell_type": "code",
   "execution_count": 1,
   "id": "e897d1b9-42b8-4fa0-920d-91b2fcfc4bf4",
   "metadata": {},
   "outputs": [],
   "source": [
    "lis1 = [3,5,6]\n",
    "lis2 = [8,67,[6,5,[33,8,9]]]\n",
    "lis3 = [3,12,56]"
   ]
  },
  {
   "cell_type": "code",
   "execution_count": 3,
   "id": "08dc0ab6-b5e1-40f2-8982-4755639ee45a",
   "metadata": {},
   "outputs": [],
   "source": [
    "matrix = [lis1,lis2,lis3]"
   ]
  },
  {
   "cell_type": "code",
   "execution_count": 28,
   "id": "83c9f0e4-5b41-4e31-b1cf-d409b1a1dfd7",
   "metadata": {},
   "outputs": [
    {
     "ename": "NameError",
     "evalue": "name 'matrix' is not defined",
     "output_type": "error",
     "traceback": [
      "\u001b[1;31m---------------------------------------------------------------------------\u001b[0m",
      "\u001b[1;31mNameError\u001b[0m                                 Traceback (most recent call last)",
      "Input \u001b[1;32mIn [28]\u001b[0m, in \u001b[0;36m<cell line: 1>\u001b[1;34m()\u001b[0m\n\u001b[1;32m----> 1\u001b[0m \u001b[43mmatrix\u001b[49m[\u001b[38;5;241m1\u001b[39m][\u001b[38;5;241m2\u001b[39m][\u001b[38;5;241m2\u001b[39m]\n",
      "\u001b[1;31mNameError\u001b[0m: name 'matrix' is not defined"
     ]
    }
   ],
   "source": [
    "matrix[1][2][2]"
   ]
  },
  {
   "cell_type": "code",
   "execution_count": null,
   "id": "8bd794dc-42e4-4a45-9d8c-7ba1aa33c165",
   "metadata": {},
   "outputs": [],
   "source": []
  }
 ],
 "metadata": {
  "kernelspec": {
   "display_name": "Python 3 (ipykernel)",
   "language": "python",
   "name": "python3"
  },
  "language_info": {
   "codemirror_mode": {
    "name": "ipython",
    "version": 3
   },
   "file_extension": ".py",
   "mimetype": "text/x-python",
   "name": "python",
   "nbconvert_exporter": "python",
   "pygments_lexer": "ipython3",
   "version": "3.9.12"
  }
 },
 "nbformat": 4,
 "nbformat_minor": 5
}
